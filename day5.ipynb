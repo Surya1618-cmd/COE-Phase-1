{
 "cells": [
  {
   "cell_type": "code",
   "execution_count": null,
   "id": "9722b512-2b36-42bf-a55e-8b9a6a6c8988",
   "metadata": {},
   "outputs": [
    {
     "name": "stdin",
     "output_type": "stream",
     "text": [
      "Enter your pin :  1234\n"
     ]
    },
    {
     "name": "stdout",
     "output_type": "stream",
     "text": [
      "1. Deposit \n",
      "2. Withdarw \n",
      "3. Bal Enquiry \n",
      "0. EXIT \n"
     ]
    },
    {
     "name": "stdin",
     "output_type": "stream",
     "text": [
      "Choose your option 1\n",
      "Enter deposit amount :  200\n"
     ]
    },
    {
     "name": "stdout",
     "output_type": "stream",
     "text": [
      "Avaialble bal is :  10200\n"
     ]
    },
    {
     "name": "stdin",
     "output_type": "stream",
     "text": [
      "1.Continue  \n",
      " 0. EXIT  1\n"
     ]
    },
    {
     "name": "stdout",
     "output_type": "stream",
     "text": [
      "1. Deposit \n",
      "2. Withdarw \n",
      "3. Bal Enquiry \n",
      "0. EXIT \n"
     ]
    },
    {
     "name": "stdin",
     "output_type": "stream",
     "text": [
      "Choose your option 1\n"
     ]
    }
   ],
   "source": [
    "class Bank:\n",
    "    pin=1234\n",
    "    pincount=1\n",
    "    acbal=10000\n",
    "    wcount=0\n",
    "    def viewOptions(self):\n",
    "        print(\"1. Deposit \")\n",
    "        print(\"2. Withdarw \")\n",
    "        print(\"3. Bal Enquiry \")\n",
    "        print(\"0. EXIT \")\n",
    "        opt=int(input(\"Choose your option\"))\n",
    "        if opt==1:\n",
    "            obj.deposit()\n",
    "            obj.confirm()\n",
    "        elif opt==2:\n",
    "            if self.wcount<3:\n",
    "                obj.withdraw()\n",
    "                obj.confirm()\n",
    "            else:\n",
    "                print(\"Withdraw limit is over, please try after 24 hrs\")\n",
    "        \n",
    "    \n",
    "    def validate(self):\n",
    "        pin=int(input(\"Enter your pin : \"))\n",
    "        if self.pin==pin:\n",
    "           obj.viewOptions()\n",
    "        else:\n",
    "            self.pincount+=1\n",
    "            if self.pincount<=3:\n",
    "                print(\"Invalid pin, please try again\")\n",
    "                obj.validate()\n",
    "            else:\n",
    "                print(\"Your card is blocked for the day\")\n",
    "    def deposit(self):\n",
    "        amt=int(input(\"Enter deposit amount : \"))\n",
    "        if amt%100==0:\n",
    "            if amt<=50000:\n",
    "                self.acbal+=amt\n",
    "                print(\"Avaialble bal is : \",self.acbal)\n",
    "            else:\n",
    "                print(\"Transaction limit is 20000 only\")\n",
    "                \n",
    "        else:\n",
    "            print(\"Please enter multiples of 100 \")\n",
    "        \n",
    "    def confirm(self):\n",
    "        opt=int(input(\"1.Continue  \\n 0. EXIT \"))\n",
    "        if opt==1:\n",
    "                obj.viewOptions()\n",
    "        else:\n",
    "            print(\"Thank you, Visit again \")\n",
    "    def withdraw(self):\n",
    "        amt=int(input(\"Enter withdraw amount : \"))\n",
    "        if amt%100==0:\n",
    "            if amt<=self.acbal:\n",
    "                if amt<=20000:\n",
    "                    self.acbal-=amt\n",
    "                    self.wcount+=1\n",
    "                    print(\"Avalilable bal is : \",self.acbal)\n",
    "                        \n",
    "                else:\n",
    "                    print(\"Transaction limit is 20000 only\")\n",
    "            else:\n",
    "                print(\"insuffient fund \")\n",
    "        else:\n",
    "            print(\"Please enter multiples of 100 only\")\n",
    "            \n",
    "            \n",
    "obj=Bank()\n",
    "obj.validate()"
   ]
  },
  {
   "cell_type": "code",
   "execution_count": null,
   "id": "c41bb794-b3f9-4021-9388-145881abb677",
   "metadata": {},
   "outputs": [
    {
     "name": "stdout",
     "output_type": "stream",
     "text": [
      "\n",
      "--- welcome to simple atm ---\n"
     ]
    },
    {
     "name": "stdin",
     "output_type": "stream",
     "text": [
      "create a 4-digit pin:  1234\n",
      "confirm your pin:  1234\n"
     ]
    },
    {
     "name": "stdout",
     "output_type": "stream",
     "text": [
      "pin created successfully.\n",
      "\n"
     ]
    },
    {
     "name": "stdin",
     "output_type": "stream",
     "text": [
      "enter your pin:  1234\n"
     ]
    },
    {
     "name": "stdout",
     "output_type": "stream",
     "text": [
      "pin verified successfully.\n",
      "\n",
      "\n",
      "--- main menu ---\n",
      "1. deposit\n",
      "2. withdraw\n",
      "3. balance enquiry\n",
      "4. change pin\n",
      "0. exit\n"
     ]
    },
    {
     "name": "stdin",
     "output_type": "stream",
     "text": [
      "choose your option:  1\n",
      "enter deposit amount (multiples of ₹100):  2000\n"
     ]
    },
    {
     "name": "stdout",
     "output_type": "stream",
     "text": [
      "deposit successful. balance: ₹12000\n",
      "\n",
      "----- transaction receipt -----\n",
      "transaction type  : deposit\n",
      "amount            : ₹2000\n",
      "available balance : ₹12000\n",
      "-------------------------------\n",
      "\n",
      "\n",
      "1. continue\n",
      "0. exit\n"
     ]
    }
   ],
   "source": [
    "#updated atm\n",
    "class Bank:\n",
    "    pin = None\n",
    "    pincount = 0\n",
    "    acbal = 10000\n",
    "    wcount = 0\n",
    "    max_withdrawals = 3\n",
    "\n",
    "    def start(self):\n",
    "        print(\"\\n--- welcome to simple atm ---\")\n",
    "        if self.pin is None:\n",
    "            self.create_pin()\n",
    "        self.validate()\n",
    "\n",
    "    def create_pin(self):\n",
    "        while True:\n",
    "            new_pin = input(\"create a 4-digit pin: \")\n",
    "            confirm_pin = input(\"confirm your pin: \")\n",
    "            if new_pin.isdigit() and confirm_pin.isdigit():\n",
    "                new_pin = int(new_pin)\n",
    "                confirm_pin = int(confirm_pin)\n",
    "                if new_pin == confirm_pin and 1000 <= new_pin <= 9999:\n",
    "                    self.pin = new_pin\n",
    "                    print(\"pin created successfully.\\n\")\n",
    "                    break\n",
    "                else:\n",
    "                    print(\"pins do not match or not in valid 4-digit format.\\n\")\n",
    "            else:\n",
    "                print(\"pin must be numeric.\\n\")\n",
    "\n",
    "    def validate(self):\n",
    "        pin_input = input(\"enter your pin: \")\n",
    "        if pin_input.isdigit():\n",
    "            if int(pin_input) == self.pin:\n",
    "                print(\"pin verified successfully.\\n\")\n",
    "                self.viewOptions()\n",
    "            else:\n",
    "                self.pincount += 1\n",
    "                if self.pincount < 3:\n",
    "                    print(f\"incorrect pin. attempts left: {3 - self.pincount}\\n\")\n",
    "                    self.validate()\n",
    "                else:\n",
    "                    print(\"you entered wrong pin 3 times. try again after 24 hours.\\n\")\n",
    "        else:\n",
    "            print(\"pin must be numeric.\\n\")\n",
    "            self.validate()\n",
    "\n",
    "    def viewOptions(self):\n",
    "        print(\"\\n--- main menu ---\")\n",
    "        print(\"1. deposit\")\n",
    "        print(\"2. withdraw\")\n",
    "        print(\"3. balance enquiry\")\n",
    "        print(\"4. change pin\")\n",
    "        print(\"0. exit\")\n",
    "        choice = input(\"choose your option: \")\n",
    "\n",
    "        if choice == '1':\n",
    "            self.deposit()\n",
    "            self.confirm()\n",
    "        elif choice == '2':\n",
    "            if self.wcount < self.max_withdrawals:\n",
    "                self.withdraw()\n",
    "                self.confirm()\n",
    "            else:\n",
    "                print(\"withdrawal limit reached. try again after 24 hours.\\n\")\n",
    "                self.confirm()\n",
    "        elif choice == '3':\n",
    "            self.balance_enquiry()\n",
    "            self.confirm()\n",
    "        elif choice == '4':\n",
    "            self.change_pin()\n",
    "            self.confirm()\n",
    "        elif choice == '0':\n",
    "            print(\"thank you for banking with us. goodbye!\\n\")\n",
    "        else:\n",
    "            print(\"invalid choice. please try again.\\n\")\n",
    "            self.viewOptions()\n",
    "\n",
    "    def deposit(self):\n",
    "        amount_input = input(\"enter deposit amount (multiples of ₹100): \")\n",
    "        if amount_input.isdigit():\n",
    "            amt = int(amount_input)\n",
    "            if amt > 0 and amt % 100 == 0:\n",
    "                if amt <= 50000:\n",
    "                    self.acbal += amt\n",
    "                    print(f\"deposit successful. balance: ₹{self.acbal}\")\n",
    "                    self.print_receipt(\"deposit\", amt)\n",
    "                else:\n",
    "                    print(\"maximum deposit limit per transaction is ₹50,000.\")\n",
    "            else:\n",
    "                print(\"amount must be positive and in multiples of ₹100.\")\n",
    "        else:\n",
    "            print(\"please enter a valid numeric amount.\")\n",
    "\n",
    "    def withdraw(self):\n",
    "        amount_input = input(\"enter withdrawal amount (multiples of ₹100): \")\n",
    "        if amount_input.isdigit():\n",
    "            amt = int(amount_input)\n",
    "            if amt > 0 and amt % 100 == 0:\n",
    "                if amt <= self.acbal:\n",
    "                    if amt <= 20000:\n",
    "                        self.acbal -= amt\n",
    "                        self.wcount += 1\n",
    "                        notes_500 = amt // 500\n",
    "                        remainder = amt % 500\n",
    "                        notes_200 = remainder // 200\n",
    "                        remainder = remainder % 200\n",
    "                        notes_100 = remainder // 100\n",
    "                        print(f\"withdrawal successful. balance: ₹{self.acbal}\")\n",
    "                        print(f\"notes dispensed -> ₹500: {notes_500}, ₹200: {notes_200}, ₹100: {notes_100}\")\n",
    "                        self.print_receipt(\"withdraw\", amt, notes_500, notes_200, notes_100)\n",
    "                    else:\n",
    "                        print(\"maximum withdrawal per transaction is ₹20,000.\")\n",
    "                else:\n",
    "                    print(\"insufficient balance.\")\n",
    "            else:\n",
    "                print(\"amount must be positive and in multiples of ₹100.\")\n",
    "        else:\n",
    "            print(\"please enter a valid numeric amount.\")\n",
    "\n",
    "    def balance_enquiry(self):\n",
    "        print(f\"your current balance is: ₹{self.acbal}\")\n",
    "\n",
    "    def change_pin(self):\n",
    "        current_pin_input = input(\"enter your current pin: \")\n",
    "        if current_pin_input.isdigit() and int(current_pin_input) == self.pin:\n",
    "            new_pin = input(\"enter new 4-digit pin: \")\n",
    "            confirm_pin = input(\"confirm new pin: \")\n",
    "            if new_pin.isdigit() and confirm_pin.isdigit():\n",
    "                new_pin = int(new_pin)\n",
    "                confirm_pin = int(confirm_pin)\n",
    "                if new_pin == confirm_pin and 1000 <= new_pin <= 9999:\n",
    "                    self.pin = new_pin\n",
    "                    print(\"pin changed successfully.\\n\")\n",
    "                else:\n",
    "                    print(\"new pins do not match or invalid.\")\n",
    "            else:\n",
    "                print(\"pin must be numeric.\")\n",
    "        else:\n",
    "            print(\"incorrect current pin.\")\n",
    "\n",
    "    def confirm(self):\n",
    "        print(\"\\n1. continue\")\n",
    "        print(\"0. exit\")\n",
    "        opt = input(\"choose: \")\n",
    "        if opt == '1':\n",
    "            self.viewOptions()\n",
    "        else:\n",
    "            print(\"thank you. visit again!\\n\")\n",
    "\n",
    "    def print_receipt(self, txn_type, amount, notes_500=0, notes_200=0, notes_100=0):\n",
    "        print(\"\\n----- transaction receipt -----\")\n",
    "        print(f\"transaction type  : {txn_type}\")\n",
    "        print(f\"amount            : ₹{amount}\")\n",
    "        print(f\"available balance : ₹{self.acbal}\")\n",
    "        if txn_type == \"withdraw\":\n",
    "            print(f\"notes dispensed -> ₹500: {notes_500}, ₹200: {notes_200}, ₹100: {notes_100}\")\n",
    "        print(\"-------------------------------\\n\")\n",
    "\n",
    "\n",
    "atm = Bank()\n",
    "atm.start()\n"
   ]
  },
  {
   "cell_type": "code",
   "execution_count": null,
   "id": "790d169b-5ba1-402c-b96a-b4c451af6a2b",
   "metadata": {},
   "outputs": [],
   "source": []
  },
  {
   "cell_type": "code",
   "execution_count": null,
   "id": "637f3118-1551-4cdf-a609-778764905367",
   "metadata": {},
   "outputs": [],
   "source": []
  }
 ],
 "metadata": {
  "kernelspec": {
   "display_name": "Python 3 (ipykernel)",
   "language": "python",
   "name": "python3"
  },
  "language_info": {
   "codemirror_mode": {
    "name": "ipython",
    "version": 3
   },
   "file_extension": ".py",
   "mimetype": "text/x-python",
   "name": "python",
   "nbconvert_exporter": "python",
   "pygments_lexer": "ipython3",
   "version": "3.11.7"
  }
 },
 "nbformat": 4,
 "nbformat_minor": 5
}
