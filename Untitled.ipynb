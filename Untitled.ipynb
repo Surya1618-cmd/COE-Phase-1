{
 "cells": [
  {
   "cell_type": "code",
   "execution_count": 17,
   "id": "fab19453-546b-41e8-b18a-236538d58f20",
   "metadata": {},
   "outputs": [
    {
     "name": "stdin",
     "output_type": "stream",
     "text": [
      "internal marks: 40\n",
      "external marks 50\n",
      "project marks 50\n"
     ]
    },
    {
     "name": "stdout",
     "output_type": "stream",
     "text": [
      "c\n",
      "you faild in internal 40\n"
     ]
    }
   ],
   "source": [
    "I=int(input(\"internal marks:\"))\n",
    "E=int(input(\"external marks\"))\n",
    "P=int(input(\"project marks\"))\n",
    "if(I>=50 and E>=50 and P>=50):\n",
    "    T=(70/100*P)+(20/100*E)+(10/100*I)\n",
    "    print(T)\n",
    "if(T>=90):\n",
    "    print(\"A\")\n",
    "elif(T>=70 and T>91):\n",
    "    print(\"B\")\n",
    "elif(T>=50 and T<71):\n",
    "    print(\"c\")\n",
    "if(I<50):\n",
    "    print(\"you faild in internal\",I) \n",
    "elif(E<50):\n",
    "    print(\"you failed in external\",E)\n",
    "elif(P<50):\n",
    "    print(\"you failed in project\",P)"
   ]
  },
  {
   "cell_type": "code",
   "execution_count": 16,
   "id": "2c71c792-fe46-45ac-a544-191c08083f25",
   "metadata": {},
   "outputs": [
    {
     "name": "stdin",
     "output_type": "stream",
     "text": [
      "prev 1000\n",
      "pres 2000\n"
     ]
    },
    {
     "name": "stdout",
     "output_type": "stream",
     "text": [
      "1000\n",
      "2100.0\n",
      "2478.0\n"
     ]
    }
   ],
   "source": [
    "previous=int(input(\"prev\"))\n",
    "pres=int(input(\"pres\"))\n",
    "totalunits=pres-previous\n",
    "print(totalunits)\n",
    "if(totalunits>0 and totalunits<50):\n",
    "    price=totalunits*0.5\n",
    "    print(price)\n",
    "elif(totalunits>51 and totalunits<150):\n",
    "    price=50*0.50+(totalunits-50)*0.75\n",
    "    print(price)\n",
    "elif(totalunits>151 and totalunits<250):\n",
    "    price=50*0.50+100*0.75+(totalunita-150)*1.25\n",
    "    print(price)\n",
    "else:\n",
    "    price=50*0.50+100*0.75+100*1.25+(totalunits-250)*2.50\n",
    "    print(price)\n",
    "gst=18/100*price+(price)\n",
    "print(gst)\n"
   ]
  },
  {
   "cell_type": "code",
   "execution_count": 37,
   "id": "71786e01-e8cf-4438-8a26-6cf02a1542a0",
   "metadata": {},
   "outputs": [
    {
     "name": "stdin",
     "output_type": "stream",
     "text": [
      " veg\n",
      "total quantity 2\n",
      " yes\n"
     ]
    },
    {
     "name": "stdout",
     "output_type": "stream",
     "text": [
      "300\n",
      "270.0\n",
      "283.5\n"
     ]
    }
   ],
   "source": [
    "meal_type=input()\n",
    "quantity=int(input(\"total quantity\"))\n",
    "festival=input()\n",
    "if(meal_type==\"veg\"):\n",
    "    price=150\n",
    "elif(meal_type==\"non_veg\"):\n",
    "    price=200\n",
    "elif(meal_type==\"combo\"):\n",
    "    price=300\n",
    "bill=price*quantity\n",
    "print(bill)\n",
    "if(festival==\"yes\"):\n",
    "    amount=bill-(bill)*0.1\n",
    "    print(amount)\n",
    "else:\n",
    "    amount=(bill*quantity)\n",
    "    print(amount)\n",
    "gst=amount+(5/100*amount)\n",
    "print(gst)\n",
    "if(gst>1000):\n",
    "    print(\"got free desert\")"
   ]
  },
  {
   "cell_type": "code",
   "execution_count": 45,
   "id": "fde6b487-a3f4-4ff1-ad12-26432c89729a",
   "metadata": {},
   "outputs": [
    {
     "name": "stdin",
     "output_type": "stream",
     "text": [
      " surya\n",
      "percentage in tenth 98\n",
      "percentagein 12th 94.8\n",
      "percentage in ug 85.6\n",
      "family income 1.5\n"
     ]
    },
    {
     "name": "stdout",
     "output_type": "stream",
     "text": [
      "eligible for full scholarship\n"
     ]
    }
   ],
   "source": [
    "name=input()\n",
    "percentage_ten=float(input(\"percentage in tenth\"))\n",
    "pregentage_twelve=float(input(\"percentagein 12th\"))\n",
    "percentage_ug=float(input(\"percentage in ug\"))\n",
    "family_income=float(input(\"family income\"))\n",
    "if(percentage_ten>=85 and pregentage_twelve>=85 and percentage_ug>=85 and family_income<3):\n",
    "    print(\"eligible for full scholarship\")\n",
    "elif(percentage_ug>=70 and family_income<5):\n",
    "    print(\"partial scholarship\")\n",
    "else:\n",
    "    print(\"not eligible\")"
   ]
  },
  {
   "cell_type": "code",
   "execution_count": null,
   "id": "5e14ae5d-69c9-47e8-b69b-e22273da632d",
   "metadata": {},
   "outputs": [],
   "source": []
  },
  {
   "cell_type": "code",
   "execution_count": null,
   "id": "507e1211-3055-4f42-ad31-41156e79b211",
   "metadata": {},
   "outputs": [],
   "source": []
  }
 ],
 "metadata": {
  "kernelspec": {
   "display_name": "Python 3 (ipykernel)",
   "language": "python",
   "name": "python3"
  },
  "language_info": {
   "codemirror_mode": {
    "name": "ipython",
    "version": 3
   },
   "file_extension": ".py",
   "mimetype": "text/x-python",
   "name": "python",
   "nbconvert_exporter": "python",
   "pygments_lexer": "ipython3",
   "version": "3.11.7"
  }
 },
 "nbformat": 4,
 "nbformat_minor": 5
}
