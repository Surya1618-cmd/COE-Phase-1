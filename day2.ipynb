{
 "cells": [
  {
   "cell_type": "code",
   "execution_count": 11,
   "id": "db9c4d17-ba22-490c-8dd1-0be3305a64f8",
   "metadata": {},
   "outputs": [
    {
     "name": "stdout",
     "output_type": "stream",
     "text": [
      "90\n"
     ]
    }
   ],
   "source": [
    "#float->int\n",
    "a=90.0\n",
    "b=int(a)\n",
    "print(b)"
   ]
  },
  {
   "cell_type": "code",
   "execution_count": 6,
   "id": "5556f2b0-a2af-4290-bb8d-432af12aadba",
   "metadata": {},
   "outputs": [
    {
     "name": "stdout",
     "output_type": "stream",
     "text": [
      "90\n",
      "90\n"
     ]
    }
   ],
   "source": [
    "#str->int\n",
    "c=\"90\"\n",
    "print(c)\n",
    "d=int(c)\n",
    "print(d)"
   ]
  },
  {
   "cell_type": "code",
   "execution_count": 12,
   "id": "8fd3d630-8ddc-4af4-b3d7-e825aba3bff3",
   "metadata": {},
   "outputs": [
    {
     "name": "stdout",
     "output_type": "stream",
     "text": [
      "90\n"
     ]
    },
    {
     "data": {
      "text/plain": [
       "str"
      ]
     },
     "execution_count": 12,
     "metadata": {},
     "output_type": "execute_result"
    }
   ],
   "source": [
    "#int->str\n",
    "f=90\n",
    "e=str(f)\n",
    "print(e)\n",
    "type(e)"
   ]
  },
  {
   "cell_type": "code",
   "execution_count": 13,
   "id": "addda9ca-d105-45e8-8b59-16893a204c75",
   "metadata": {},
   "outputs": [
    {
     "name": "stdout",
     "output_type": "stream",
     "text": [
      "90\n",
      "90.0\n"
     ]
    },
    {
     "data": {
      "text/plain": [
       "float"
      ]
     },
     "execution_count": 13,
     "metadata": {},
     "output_type": "execute_result"
    }
   ],
   "source": [
    "#str->float\n",
    "v=\"90\"\n",
    "print(v)\n",
    "g=float(v)\n",
    "print(g)\n",
    "type(g)"
   ]
  },
  {
   "cell_type": "code",
   "execution_count": 15,
   "id": "0c2dff4e-7226-4297-a54e-6185bb06afab",
   "metadata": {},
   "outputs": [
    {
     "name": "stdout",
     "output_type": "stream",
     "text": [
      "90.0\n"
     ]
    },
    {
     "data": {
      "text/plain": [
       "str"
      ]
     },
     "execution_count": 15,
     "metadata": {},
     "output_type": "execute_result"
    }
   ],
   "source": [
    "#float->str\n",
    "i=90.0\n",
    "h=str(i)\n",
    "print(h)\n",
    "type(h)"
   ]
  },
  {
   "cell_type": "code",
   "execution_count": 20,
   "id": "928cc700-41fa-4783-afc8-a90d2e68c198",
   "metadata": {},
   "outputs": [
    {
     "name": "stdin",
     "output_type": "stream",
     "text": [
      "enter the basic salary 50000\n"
     ]
    },
    {
     "name": "stdout",
     "output_type": "stream",
     "text": [
      "137000.0\n"
     ]
    }
   ],
   "source": [
    "#Task 1\n",
    "basic_salary=int(input(\"enter the basic salary\"))\n",
    "if(basic_salary<20000):\n",
    "    hra=76/100*basic_salary\n",
    "    da=78/100*basic_salary\n",
    "elif(basic_salary>20000 and basic_salary<30000):\n",
    "    hra=79/100*basic_salary\n",
    "    da=82/100*basic_salary\n",
    "else:\n",
    "    hra=85/100*basic_salary\n",
    "    da=89/100*basic_salary\n",
    "gross_salary=basic_salary+hra+da\n",
    "print(gross_salary)"
   ]
  },
  {
   "cell_type": "code",
   "execution_count": null,
   "id": "ac4f5816-9166-4326-a656-39bf50f610f3",
   "metadata": {},
   "outputs": [],
   "source": [
    "salary = int (input(\"Enter your salary \"))\n",
    "if salary <=500000:\n",
    "    tds = 0*salary \n",
    "else:\n",
    "    if salary<=700000:\n",
    "        tds = 0.05*(salary-500000)\n",
    "    elif salary<=1000000:\n",
    "        tds = 0.10*(salary - 500000)\n",
    "    elif salary <= 1500000:\n",
    "        tds = (200000 * 0.05) + (300000 * 0.10) + (salary - 1000000) * 0.15\n",
    "    elif salary<=2000000:\n",
    "        tds = (200000 * 0.05) + (300000 * 0.10) + (500000 * 0.15) + (salary - 1500000) * 0.20\n",
    "    else:\n",
    "        tds = (200000 * 0.05) + (300000 * 0.10) + (500000 * 0.15) + (500000 * 0.20) + (salary - 2000000) * 0.30\n",
    "print(tds)"
   ]
  },
  {
   "cell_type": "code",
   "execution_count": null,
   "id": "1e821252-b1fe-4be3-8599-0ef9a331ec57",
   "metadata": {},
   "outputs": [],
   "source": []
  }
 ],
 "metadata": {
  "kernelspec": {
   "display_name": "Python 3 (ipykernel)",
   "language": "python",
   "name": "python3"
  },
  "language_info": {
   "codemirror_mode": {
    "name": "ipython",
    "version": 3
   },
   "file_extension": ".py",
   "mimetype": "text/x-python",
   "name": "python",
   "nbconvert_exporter": "python",
   "pygments_lexer": "ipython3",
   "version": "3.11.7"
  }
 },
 "nbformat": 4,
 "nbformat_minor": 5
}
